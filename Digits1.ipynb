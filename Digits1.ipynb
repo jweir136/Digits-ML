{
  "nbformat": 4,
  "nbformat_minor": 0,
  "metadata": {
    "colab": {
      "name": "Digits1.ipynb",
      "version": "0.3.2",
      "provenance": [],
      "collapsed_sections": [],
      "include_colab_link": true
    },
    "kernelspec": {
      "name": "python3",
      "display_name": "Python 3"
    }
  },
  "cells": [
    {
      "cell_type": "markdown",
      "metadata": {
        "id": "view-in-github",
        "colab_type": "text"
      },
      "source": [
        "<a href=\"https://colab.research.google.com/github/jweir136/Digits-ML/blob/master/Digits1.ipynb\" target=\"_parent\"><img src=\"https://colab.research.google.com/assets/colab-badge.svg\" alt=\"Open In Colab\"/></a>"
      ]
    },
    {
      "metadata": {
        "id": "HNKaxuRpGdyk",
        "colab_type": "text"
      },
      "cell_type": "markdown",
      "source": [
        "# Using Tensorflow to Solve MNIST Digits Problem"
      ]
    },
    {
      "metadata": {
        "id": "TKg9BQtu3L7O",
        "colab_type": "text"
      },
      "cell_type": "markdown",
      "source": [
        "The data can be downloaded [Here](https://www.kaggle.com/c/digit-recognizer/data)."
      ]
    },
    {
      "metadata": {
        "id": "hCH0JF_bGlm8",
        "colab_type": "text"
      },
      "cell_type": "markdown",
      "source": [
        "## Importing Data and Required Libraries"
      ]
    },
    {
      "metadata": {
        "id": "fRM9MSSavh3l",
        "colab_type": "code",
        "colab": {}
      },
      "cell_type": "code",
      "source": [
        "import pandas as pd\n",
        "import matplotlib.pyplot as plt\n",
        "from PIL import Image\n",
        "import numpy as np\n",
        "from sklearn.model_selection import train_test_split\n",
        "from sklearn.preprocessing import StandardScaler\n",
        "import tensorflow as tf\n",
        "\n",
        "%matplotlib inline"
      ],
      "execution_count": 0,
      "outputs": []
    },
    {
      "metadata": {
        "id": "v5w09LuFvsdT",
        "colab_type": "code",
        "colab": {}
      },
      "cell_type": "code",
      "source": [
        "train_df = pd.read_csv(\"train.csv\")"
      ],
      "execution_count": 0,
      "outputs": []
    },
    {
      "metadata": {
        "id": "86ZtTnVnv0V7",
        "colab_type": "code",
        "colab": {}
      },
      "cell_type": "code",
      "source": [
        "train_imgs = train_df.drop(['label'], axis=1).values\n",
        "train_labels = train_df['label'].values"
      ],
      "execution_count": 0,
      "outputs": []
    },
    {
      "metadata": {
        "id": "nKV1ocPEGrvN",
        "colab_type": "text"
      },
      "cell_type": "markdown",
      "source": [
        "## Spliting and Normalizing Data"
      ]
    },
    {
      "metadata": {
        "id": "XyTOHAEcwHtY",
        "colab_type": "code",
        "colab": {}
      },
      "cell_type": "code",
      "source": [
        "trainX, testX, trainY, testY = train_test_split(train_imgs, train_labels, test_size=.2)"
      ],
      "execution_count": 0,
      "outputs": []
    },
    {
      "metadata": {
        "id": "b0ytruVj5n2R",
        "colab_type": "code",
        "colab": {
          "base_uri": "https://localhost:8080/",
          "height": 173
        },
        "outputId": "119fd135-2a75-4da4-ccc2-666bed0539fe"
      },
      "cell_type": "code",
      "source": [
        "trainX = StandardScaler().fit_transform(trainX)\n",
        "testX = StandardScaler().fit_transform(testX)"
      ],
      "execution_count": 5,
      "outputs": [
        {
          "output_type": "stream",
          "text": [
            "/usr/local/lib/python3.6/dist-packages/sklearn/utils/validation.py:595: DataConversionWarning: Data with input dtype int64 was converted to float64 by StandardScaler.\n",
            "  warnings.warn(msg, DataConversionWarning)\n",
            "/usr/local/lib/python3.6/dist-packages/sklearn/utils/validation.py:595: DataConversionWarning: Data with input dtype int64 was converted to float64 by StandardScaler.\n",
            "  warnings.warn(msg, DataConversionWarning)\n",
            "/usr/local/lib/python3.6/dist-packages/sklearn/utils/validation.py:595: DataConversionWarning: Data with input dtype int64 was converted to float64 by StandardScaler.\n",
            "  warnings.warn(msg, DataConversionWarning)\n",
            "/usr/local/lib/python3.6/dist-packages/sklearn/utils/validation.py:595: DataConversionWarning: Data with input dtype int64 was converted to float64 by StandardScaler.\n",
            "  warnings.warn(msg, DataConversionWarning)\n"
          ],
          "name": "stderr"
        }
      ]
    },
    {
      "metadata": {
        "id": "N7jU-x5yGw3D",
        "colab_type": "text"
      },
      "cell_type": "markdown",
      "source": [
        "## Visualizing Data"
      ]
    },
    {
      "metadata": {
        "id": "oDutoesrKbTS",
        "colab_type": "code",
        "colab": {}
      },
      "cell_type": "code",
      "source": [
        ""
      ],
      "execution_count": 0,
      "outputs": []
    },
    {
      "metadata": {
        "id": "Txgajik5LBmi",
        "colab_type": "code",
        "colab": {}
      },
      "cell_type": "code",
      "source": [
        ""
      ],
      "execution_count": 0,
      "outputs": []
    },
    {
      "metadata": {
        "id": "IXX7vriFK6Zl",
        "colab_type": "code",
        "colab": {}
      },
      "cell_type": "code",
      "source": [
        ""
      ],
      "execution_count": 0,
      "outputs": []
    },
    {
      "metadata": {
        "id": "jnrHVvE_KbZ9",
        "colab_type": "code",
        "colab": {}
      },
      "cell_type": "code",
      "source": [
        ""
      ],
      "execution_count": 0,
      "outputs": []
    },
    {
      "metadata": {
        "id": "wx4w0NqtKbcj",
        "colab_type": "code",
        "colab": {}
      },
      "cell_type": "code",
      "source": [
        ""
      ],
      "execution_count": 0,
      "outputs": []
    },
    {
      "metadata": {
        "id": "TUybURQmygfw",
        "colab_type": "code",
        "outputId": "37fd4a3a-1a34-4e2b-ab1d-0c6f0a87ef42",
        "colab": {
          "base_uri": "https://localhost:8080/",
          "height": 282
        }
      },
      "cell_type": "code",
      "source": [
        "first_image = np.array(trainX[0], dtype='float')\n",
        "pixels = first_image.reshape((28, 28))\n",
        "plt.imshow(pixels, cmap='gray')"
      ],
      "execution_count": 6,
      "outputs": [
        {
          "output_type": "execute_result",
          "data": {
            "text/plain": [
              "<matplotlib.image.AxesImage at 0x7face11676d8>"
            ]
          },
          "metadata": {
            "tags": []
          },
          "execution_count": 6
        },
        {
          "output_type": "display_data",
          "data": {
            "image/png": "[encoded data removed]",
            "text/plain": [
              "<Figure size 432x288 with 1 Axes>"
            ]
          },
          "metadata": {
            "tags": []
          }
        }
      ]
    },
    {
      "metadata": {
        "id": "Vbbe77bKG1Gr",
        "colab_type": "text"
      },
      "cell_type": "markdown",
      "source": [
        "## Creating DNN"
      ]
    },
    {
      "metadata": {
        "id": "896AuS6D15dF",
        "colab_type": "code",
        "colab": {}
      },
      "cell_type": "code",
      "source": [
        "n_inputs = trainX.shape[1]\n",
        "n_hidden1 = 1000\n",
        "n_hidden2 = 500\n",
        "n_hidden3 = 100\n",
        "n_outputs = 10 # There are 10 different digits (0 to 9)."
      ],
      "execution_count": 0,
      "outputs": []
    },
    {
      "metadata": {
        "id": "TLo-3fDm2Hhk",
        "colab_type": "code",
        "colab": {}
      },
      "cell_type": "code",
      "source": [
        "X = tf.placeholder(tf.float32, shape=(None, n_inputs))\n",
        "y = tf.placeholder(tf.int64, shape=(None))"
      ],
      "execution_count": 0,
      "outputs": []
    },
    {
      "metadata": {
        "id": "U-xrbsFw2aHP",
        "colab_type": "code",
        "colab": {
          "base_uri": "https://localhost:8080/",
          "height": 139
        },
        "outputId": "afd7c162-b8ef-4b5d-d2e4-50a24c38b56e"
      },
      "cell_type": "code",
      "source": [
        "with tf.name_scope(\"dnn\"):\n",
        "  hidden1 = tf.layers.dense(X, n_hidden1, tf.nn.elu)\n",
        "  hidden2 = tf.layers.dense(hidden1, n_hidden2, tf.nn.elu)\n",
        "  hidden3 = tf.layers.dense(hidden2, n_hidden3, tf.nn.elu)\n",
        "  outputs = tf.layers.dense(hidden3, n_outputs)"
      ],
      "execution_count": 9,
      "outputs": [
        {
          "output_type": "stream",
          "text": [
            "WARNING:tensorflow:From <ipython-input-9-6aaab4c67c4d>:2: dense (from tensorflow.python.layers.core) is deprecated and will be removed in a future version.\n",
            "Instructions for updating:\n",
            "Use keras.layers.dense instead.\n",
            "WARNING:tensorflow:From /usr/local/lib/python3.6/dist-packages/tensorflow/python/framework/op_def_library.py:263: colocate_with (from tensorflow.python.framework.ops) is deprecated and will be removed in a future version.\n",
            "Instructions for updating:\n",
            "Colocations handled automatically by placer.\n"
          ],
          "name": "stdout"
        }
      ]
    },
    {
      "metadata": {
        "id": "6ZOiFu4l23KL",
        "colab_type": "code",
        "colab": {}
      },
      "cell_type": "code",
      "source": [
        "with tf.name_scope(\"loss\"):\n",
        "  xentropy = tf.nn.sparse_softmax_cross_entropy_with_logits(logits=outputs, labels=y)\n",
        "  loss = tf.reduce_mean(xentropy)"
      ],
      "execution_count": 0,
      "outputs": []
    },
    {
      "metadata": {
        "id": "pddTtgHj3Xet",
        "colab_type": "code",
        "colab": {}
      },
      "cell_type": "code",
      "source": [
        "with tf.name_scope(\"train\"):\n",
        "  train_op = tf.train.GradientDescentOptimizer(0.1).minimize(loss)"
      ],
      "execution_count": 0,
      "outputs": []
    },
    {
      "metadata": {
        "id": "GDqlQxOy3i-n",
        "colab_type": "code",
        "colab": {}
      },
      "cell_type": "code",
      "source": [
        "with tf.name_scope(\"eval\"):\n",
        "  correct = tf.nn.in_top_k(outputs, y, 1)\n",
        "  accuracy = tf.reduce_mean(tf.cast(correct, tf.float32))"
      ],
      "execution_count": 0,
      "outputs": []
    },
    {
      "metadata": {
        "id": "QT0SzL2C3qg3",
        "colab_type": "code",
        "colab": {}
      },
      "cell_type": "code",
      "source": [
        "init = tf.global_variables_initializer()\n",
        "saver = tf.train.Saver()"
      ],
      "execution_count": 0,
      "outputs": []
    },
    {
      "metadata": {
        "id": "2s17A8ZiG4pD",
        "colab_type": "text"
      },
      "cell_type": "markdown",
      "source": [
        "## Training DNN"
      ]
    },
    {
      "metadata": {
        "id": "fZ4YyAjz3tC-",
        "colab_type": "code",
        "colab": {
          "base_uri": "https://localhost:8080/",
          "height": 697
        },
        "outputId": "b7ba2a3e-ea8f-49fd-a81a-a3509223e3ef"
      },
      "cell_type": "code",
      "source": [
        "with tf.Session() as sess:\n",
        "  epochs = []\n",
        "  train_scores = []\n",
        "  test_scores = []\n",
        "  init.run()\n",
        "  for i in range(1, 41):\n",
        "    sess.run(train_op, feed_dict={X:trainX, y:trainY})\n",
        "    print(i, accuracy.eval(feed_dict={X:trainX, y:trainY}), accuracy.eval(feed_dict={X:testX, y:testY}))\n",
        "  train_acc = accuracy.eval(feed_dict={X:trainX, y:trainY})\n",
        "  test_acc = accuracy.eval(feed_dict={X:testX, y:testY})"
      ],
      "execution_count": 14,
      "outputs": [
        {
          "output_type": "stream",
          "text": [
            "1 0.61761904 0.60690475\n",
            "2 0.7352679 0.72964287\n",
            "3 0.78488094 0.77738094\n",
            "4 0.813125 0.80464286\n",
            "5 0.83017856 0.82166666\n",
            "6 0.8421726 0.83416665\n",
            "7 0.85074407 0.8445238\n",
            "8 0.8579762 0.8517857\n",
            "9 0.86443454 0.85821426\n",
            "10 0.8696131 0.862381\n",
            "11 0.87354165 0.86690474\n",
            "12 0.8777083 0.87023807\n",
            "13 0.8813988 0.8742857\n",
            "14 0.88497025 0.8775\n",
            "15 0.8877976 0.8802381\n",
            "16 0.89074403 0.8819048\n",
            "17 0.89306545 0.8844048\n",
            "18 0.89488095 0.8863095\n",
            "19 0.8968452 0.88785714\n",
            "20 0.89839286 0.8902381\n",
            "21 0.9 0.8919048\n",
            "22 0.9014286 0.8933333\n",
            "23 0.9030655 0.8945238\n",
            "24 0.9044345 0.89535713\n",
            "25 0.9057143 0.8972619\n",
            "26 0.90708333 0.8978571\n",
            "27 0.9084226 0.8982143\n",
            "28 0.90949404 0.8995238\n",
            "29 0.91059524 0.89988095\n",
            "30 0.9114583 0.9004762\n",
            "31 0.91270834 0.90178573\n",
            "32 0.91377974 0.90261906\n",
            "33 0.9144643 0.9033333\n",
            "34 0.9153572 0.9052381\n",
            "35 0.91622025 0.9059524\n",
            "36 0.91699404 0.9065476\n",
            "37 0.91785717 0.9071429\n",
            "38 0.91872025 0.9078571\n",
            "39 0.9191667 0.9090476\n",
            "40 0.9195833 0.9103571\n"
          ],
          "name": "stdout"
        }
      ]
    },
    {
      "metadata": {
        "id": "Yhkue3IrG8rJ",
        "colab_type": "text"
      },
      "cell_type": "markdown",
      "source": [
        "## Evaluating Model"
      ]
    },
    {
      "metadata": {
        "id": "x0XQ07Kd9FP6",
        "colab_type": "code",
        "outputId": "bf30799e-fe06-4977-b5ba-8daa24a7f500",
        "colab": {
          "base_uri": "https://localhost:8080/",
          "height": 34
        }
      },
      "cell_type": "code",
      "source": [
        "train_acc, test_acc"
      ],
      "execution_count": 15,
      "outputs": [
        {
          "output_type": "execute_result",
          "data": {
            "text/plain": [
              "(0.9195833, 0.9103571)"
            ]
          },
          "metadata": {
            "tags": []
          },
          "execution_count": 15
        }
      ]
    },
    {
      "metadata": {
        "id": "uQKZBxEgHzE5",
        "colab_type": "text"
      },
      "cell_type": "markdown",
      "source": [
        "## Conclusion"
      ]
    },
    {
      "metadata": {
        "id": "uDBS8LqPH0tm",
        "colab_type": "text"
      },
      "cell_type": "markdown",
      "source": [
        "From here, you can take the .ckpt files, and do whatever you see fit.  You can make more predictions, you can use it in a contest, you can use it in real life, etc."
      ]
    }
  ]
}